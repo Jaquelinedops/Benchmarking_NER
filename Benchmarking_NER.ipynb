{
  "nbformat": 4,
  "nbformat_minor": 0,
  "metadata": {
    "colab": {
      "provenance": [],
      "gpuType": "T4",
      "authorship_tag": "ABX9TyPHFl1ChcQxQvAZf4DqHgPg",
      "include_colab_link": true
    },
    "kernelspec": {
      "name": "python3",
      "display_name": "Python 3"
    },
    "language_info": {
      "name": "python"
    },
    "accelerator": "GPU"
  },
  "cells": [
    {
      "cell_type": "markdown",
      "metadata": {
        "id": "view-in-github",
        "colab_type": "text"
      },
      "source": [
        "<a href=\"https://colab.research.google.com/github/Jaquelinedops/Benchmarking_NER/blob/main/Benchmarking_NER.ipynb\" target=\"_parent\"><img src=\"https://colab.research.google.com/assets/colab-badge.svg\" alt=\"Open In Colab\"/></a>"
      ]
    },
    {
      "cell_type": "code",
      "source": [
        "pip install seqeval"
      ],
      "metadata": {
        "colab": {
          "base_uri": "https://localhost:8080/"
        },
        "id": "LG9YOpQ8sWAy",
        "outputId": "8fc4006b-107e-4447-da3d-cd72f740a66c"
      },
      "execution_count": 1,
      "outputs": [
        {
          "output_type": "stream",
          "name": "stdout",
          "text": [
            "Requirement already satisfied: seqeval in /usr/local/lib/python3.11/dist-packages (1.2.2)\n",
            "Requirement already satisfied: numpy>=1.14.0 in /usr/local/lib/python3.11/dist-packages (from seqeval) (2.0.2)\n",
            "Requirement already satisfied: scikit-learn>=0.21.3 in /usr/local/lib/python3.11/dist-packages (from seqeval) (1.6.1)\n",
            "Requirement already satisfied: scipy>=1.6.0 in /usr/local/lib/python3.11/dist-packages (from scikit-learn>=0.21.3->seqeval) (1.16.0)\n",
            "Requirement already satisfied: joblib>=1.2.0 in /usr/local/lib/python3.11/dist-packages (from scikit-learn>=0.21.3->seqeval) (1.5.1)\n",
            "Requirement already satisfied: threadpoolctl>=3.1.0 in /usr/local/lib/python3.11/dist-packages (from scikit-learn>=0.21.3->seqeval) (3.6.0)\n"
          ]
        }
      ]
    },
    {
      "cell_type": "code",
      "execution_count": 2,
      "metadata": {
        "id": "V0qzWU3FojfZ"
      },
      "outputs": [],
      "source": [
        "import tensorflow_datasets as tfds\n",
        "import tensorflow as tf\n",
        "import torch\n",
        "from transformers import AutoTokenizer, AutoModelForTokenClassification, pipeline\n",
        "from seqeval.metrics import classification_report\n",
        "from sklearn.metrics import cohen_kappa_score\n",
        "from collections import Counter\n",
        "import pandas as pd\n",
        "warnings.filterwarnings('ignore')\n"
      ]
    },
    {
      "cell_type": "code",
      "source": [
        "print(\"Is CUDA available?:\", torch.cuda.is_available())\n",
        "if torch.cuda.is_available():\n",
        "    print(\"GPU Name:\", torch.cuda.get_device_name(0))\n",
        "    print(\"Total VRAM:\", round(torch.cuda.get_device_properties(0).total_memory / 1024**3, 2), \"GB\")\n",
        "else:\n",
        "    print(\"CUDA not available. GPU not detected.\")\n",
        "\n",
        "device = torch.device('cuda' if torch.cuda.is_available() else 'cpu')\n",
        "print(f\"Using device: {device}\")"
      ],
      "metadata": {
        "colab": {
          "base_uri": "https://localhost:8080/"
        },
        "id": "vIiSKUUmrt2_",
        "outputId": "7da53001-82f6-44b8-f5ca-038c28cda1d5"
      },
      "execution_count": 3,
      "outputs": [
        {
          "output_type": "stream",
          "name": "stdout",
          "text": [
            "Is CUDA available?: True\n",
            "GPU Name: Tesla T4\n",
            "Total VRAM: 14.74 GB\n",
            "Using device: cuda\n"
          ]
        }
      ]
    },
    {
      "cell_type": "code",
      "source": [
        "\n",
        "# carregando o conll2003 dataset\n",
        "try:\n",
        "    dataset_tfds, info = tfds.load(\n",
        "        \"conll2003\",\n",
        "        split='test',\n",
        "        as_supervised=False,\n",
        "        with_info=True\n",
        "    )\n",
        "    test_ds = dataset_tfds\n",
        "    label_list = info.features['ner'].feature.names\n",
        "    print(\"Dataset 'conll2003' loaded successfully.\")\n",
        "except Exception as e:\n",
        "    print(f\"Error loading dataset: {e}\")\n",
        "    exit()\n",
        "\n",
        "# Dicionário de modelos para o benchmark\n",
        "modelos = {\n",
        "    \"XML-RoBERTa\": \"Davlan/xlm-roberta-base-ner-hrl\",\n",
        "    \"BERT-Davlan\": \"Davlan/bert-base-multilingual-cased-ner-hrl\",\n",
        "    \"BERT\": \"dslim/bert-base-NER\",\n",
        "    #\"RoBERTa\": \"Jean-Baptiste/roberta-large-ner-english\",\n",
        "}\n",
        "\n",
        "# --- Seção 2: Função para Avaliação ---\n",
        "\n",
        "def avaliar_modelo_ner(model_name, dataset_para_teste, label_list, device):\n",
        "    \"\"\"\n",
        "    Carrega um modelo e seu tokenizer, roda o pipeline de NER\n",
        "    no dataset de teste e retorna um relatório de classificação detalhado\n",
        "    e o score Cohen's Kappa.\n",
        "    \"\"\"\n",
        "    print(f\"\\n--- Avaliando o Modelo: {model_name} ---\")\n",
        "\n",
        "    # Carrega o tokenizer e o modelo\n",
        "    tokenizer = AutoTokenizer.from_pretrained(model_name)\n",
        "    model = AutoModelForTokenClassification.from_pretrained(model_name).to(device)\n",
        "\n",
        "    # Cria o pipeline de NER, passando o dispositivo explicitamente\n",
        "    device_id = 0\n",
        "    ner_pipeline = pipeline(\n",
        "        \"ner\",\n",
        "        model=model,\n",
        "        tokenizer=tokenizer,\n",
        "        aggregation_strategy=\"simple\",\n",
        "        device=device_id\n",
        "    )\n",
        "\n",
        "    # Listas para armazenar as entidades preditas e as verdadeiras\n",
        "    verdades_seqeval = []\n",
        "    predicoes_seqeval = []\n",
        "\n",
        "    verdades_flattened = []\n",
        "    predicoes_flattened = []\n",
        "\n",
        "    # Processa cada exemplo no dataset de teste\n",
        "    for exemplo in dataset_para_teste:\n",
        "        tokens = [t.decode('utf-8') for t in exemplo['tokens'].numpy().tolist()]\n",
        "        tags_verdadeiras_ids = exemplo['ner'].numpy().tolist()\n",
        "\n",
        "        # Map the true tags from numbers to names for seqeval\n",
        "        tags_verdadeiras_str = [label_list[tag_id] for tag_id in tags_verdadeiras_ids]\n",
        "\n",
        "        texto = \" \".join(tokens)\n",
        "        preds = ner_pipeline(texto)\n",
        "\n",
        "        # Formatação de predictions para seqeval e flatten para Cohen's Kappa\n",
        "        preds_seq_level = ['O'] * len(tokens)\n",
        "        preds_kappa_level = ['O'] * len(tokens)\n",
        "        current_char_idx = 0\n",
        "        for pred in preds:\n",
        "            word = pred['word']\n",
        "            entity_type = pred['entity_group']\n",
        "\n",
        "            token_start_index = -1\n",
        "            temp_text = \"\"\n",
        "            for i, token in enumerate(tokens):\n",
        "                if word.startswith(temp_text + token):\n",
        "                    if token_start_index == -1:\n",
        "                        token_start_index = i\n",
        "                    temp_text += token\n",
        "                    if temp_text == word:\n",
        "                        break\n",
        "                else:\n",
        "                    temp_text = \"\"\n",
        "                    token_start_index = -1\n",
        "\n",
        "            if token_start_index != -1:\n",
        "                preds_seq_level[token_start_index] = f\"B-{entity_type}\"\n",
        "                preds_kappa_level[token_start_index] = f\"B-{entity_type}\" # Save for Kappa\n",
        "                for i in range(token_start_index + 1, len(tokens)):\n",
        "                    if word.endswith(\"\".join(tokens[token_start_index:i+1])):\n",
        "                        preds_seq_level[i] = f\"I-{entity_type}\"\n",
        "                        preds_kappa_level[i] = f\"I-{entity_type}\" # Save for Kappa\n",
        "                    else:\n",
        "                        break\n",
        "\n",
        "        verdades_seqeval.append(tags_verdadeiras_str)\n",
        "        predicoes_seqeval.append(preds_seq_level)\n",
        "\n",
        "        verdades_flattened.extend(tags_verdadeiras_str)\n",
        "        predicoes_flattened.extend(preds_kappa_level)\n",
        "\n",
        "    # Gera relatorio\n",
        "    relatorio = classification_report(verdades_seqeval, predicoes_seqeval, digits=5, output_dict=True)\n",
        "\n",
        "    # Calcula Cohen's Kappa\n",
        "    kappa = cohen_kappa_score(verdades_flattened, predicoes_flattened)\n",
        "\n",
        "    return relatorio, kappa\n",
        "\n",
        "# --- Seção 3: Execução do Benchmark e Exibição dos Resultados ---\n",
        "\n",
        "# Detectar o dispositivo disponível (GPU ou CPU)\n",
        "device = torch.device(\"cuda\" if torch.cuda.is_available() else \"cpu\")\n",
        "print(f\"Using device: {device}\")\n",
        "temp = {}\n",
        "relatorio_final = {}\n",
        "for nome_modelo, model_id in modelos.items():\n",
        "    relatorio, kappa_score = avaliar_modelo_ner(model_id, test_ds, label_list, device)\n",
        "\n",
        "    temp = {\n",
        "        'nome_modelo': nome_modelo,\n",
        "        'relatorio': relatorio,\n",
        "        'kappa_score': kappa_score\n",
        "    }\n",
        "\n",
        "    df_relatorio = pd.DataFrame(temp).transpose()\n",
        "    df_relatorio = df_relatorio.round(4)\n",
        "    relatorio_final.append(temp)\n",
        "    print(f\"\\n=====================================================\")\n",
        "    print(f\"RELATÓRIO DE AVALIAÇÃO PARA O MODELO: {nome_modelo}\")\n",
        "    print(df_relatorio)\n",
        "    print(\"=====================================================\")\n",
        "    print(f\"Cohen's Kappa Score: {kappa_score:.4f}\")\n",
        "    print(\"=====================================================\\n\")\n",
        "\n",
        ""
      ],
      "metadata": {
        "colab": {
          "base_uri": "https://localhost:8080/"
        },
        "id": "7z8v9Tz5rYtE",
        "outputId": "274f310d-1ac8-4d17-be1e-31d50057b703"
      },
      "execution_count": null,
      "outputs": [
        {
          "output_type": "stream",
          "name": "stdout",
          "text": [
            "Dataset 'conll2003' loaded successfully.\n",
            "Using device: cuda\n",
            "\n",
            "--- Avaliando o Modelo: Davlan/xlm-roberta-base-ner-hrl ---\n"
          ]
        },
        {
          "output_type": "stream",
          "name": "stderr",
          "text": [
            "Device set to use cuda:0\n",
            "/usr/local/lib/python3.11/dist-packages/torch/nn/modules/module.py:1750: FutureWarning: `encoder_attention_mask` is deprecated and will be removed in version 4.55.0 for `XLMRobertaSdpaSelfAttention.forward`.\n",
            "  return forward_call(*args, **kwargs)\n"
          ]
        }
      ]
    }
  ]
}